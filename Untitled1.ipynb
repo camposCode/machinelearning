{
 "cells": [
  {
   "cell_type": "code",
   "execution_count": 45,
   "id": "fe853dab-0f12-4816-9fc4-f36e852bafc4",
   "metadata": {},
   "outputs": [
    {
     "data": {
      "text/plain": [
       "0.25"
      ]
     },
     "execution_count": 45,
     "metadata": {},
     "output_type": "execute_result"
    }
   ],
   "source": [
    "import pandas as p\n",
    "from sklearn.tree import DecisionTreeClassifier\n",
    "from sklearn.model_selection import train_test_split\n",
    "from sklearn.metrics import accuracy_score\n",
    "\n",
    "data_juegos = p.read_csv(\"juegos-ml.csv\")\n",
    "X = data_juegos.drop(columns=[\"juegos\"])\n",
    "y = data_juegos[\"juegos\"]\n",
    "X_entrenar, X_prueba, y_entrenar, y_prueba = train_test_split(X.values, y, test_size=0.2)\n",
    "\n",
    "modelo = DecisionTreeClassifier()\n",
    "modelo.fit(X_entrenar, y_entrenar)\n",
    "predicciones = modelo.predict(X_prueba)\n",
    "\n",
    "puntuaje = accuracy_score(y_prueba, predicciones)\n",
    "puntuaje"
   ]
  },
  {
   "cell_type": "code",
   "execution_count": null,
   "id": "28d07916-567f-4fec-8316-02e8efe0977c",
   "metadata": {},
   "outputs": [],
   "source": []
  },
  {
   "cell_type": "code",
   "execution_count": null,
   "id": "86e6dbc7-8072-4d4c-8afe-f8cf3191417d",
   "metadata": {},
   "outputs": [],
   "source": []
  }
 ],
 "metadata": {
  "kernelspec": {
   "display_name": "Python 3 (ipykernel)",
   "language": "python",
   "name": "python3"
  },
  "language_info": {
   "codemirror_mode": {
    "name": "ipython",
    "version": 3
   },
   "file_extension": ".py",
   "mimetype": "text/x-python",
   "name": "python",
   "nbconvert_exporter": "python",
   "pygments_lexer": "ipython3",
   "version": "3.10.9"
  }
 },
 "nbformat": 4,
 "nbformat_minor": 5
}
