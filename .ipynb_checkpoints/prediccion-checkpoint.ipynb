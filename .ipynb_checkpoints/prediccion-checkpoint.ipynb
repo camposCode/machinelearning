{
 "cells": [
  {
   "cell_type": "code",
   "execution_count": 23,
   "id": "fe853dab-0f12-4816-9fc4-f36e852bafc4",
   "metadata": {},
   "outputs": [],
   "source": [
    "import pandas as p\n",
    "from sklearn.tree import DecisionTreeClassifier\n",
    "from sklearn.model_selection import train_test_split\n",
    "\n",
    "data_juegos = p.read_csv(\"juegos-ml.csv\")\n",
    "X = data_juegos.drop(columns=[\"juegos\"])\n",
    "y = data_juegos[\"juegos\"]\n",
    "X_entrenar, X_prueba, y_entrenar, y_prueba = train_test_split(X, y, test_size=0.2)\n",
    "\n",
    "modelo = DecisionTreeClassifier()\n",
    "modelo.fit(X.values, y)\n",
    "predicciones = modelo.predict([[14, 0], [29, 0], [30, 0]])\n"
   ]
  },
  {
   "cell_type": "code",
   "execution_count": null,
   "id": "d3c4a98f-8706-484e-81fc-d1fe19f5f675",
   "metadata": {},
   "outputs": [],
   "source": []
  }
 ],
 "metadata": {
  "kernelspec": {
   "display_name": "Python 3 (ipykernel)",
   "language": "python",
   "name": "python3"
  },
  "language_info": {
   "codemirror_mode": {
    "name": "ipython",
    "version": 3
   },
   "file_extension": ".py",
   "mimetype": "text/x-python",
   "name": "python",
   "nbconvert_exporter": "python",
   "pygments_lexer": "ipython3",
   "version": "3.10.9"
  }
 },
 "nbformat": 4,
 "nbformat_minor": 5
}
