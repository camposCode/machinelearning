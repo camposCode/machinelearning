{
 "cells": [
  {
   "cell_type": "code",
   "execution_count": 1,
   "id": "fe853dab-0f12-4816-9fc4-f36e852bafc4",
   "metadata": {},
   "outputs": [],
   "source": [
    "import pandas as p\n",
    "data_juegos = p.read_csv(\"juegos-ml.csv\")"
   ]
  },
  {
   "cell_type": "code",
   "execution_count": 9,
   "id": "513a13e5-405d-495b-9d48-78d862b087ef",
   "metadata": {},
   "outputs": [],
   "source": [
    "X = data_juegos.drop(columns=[\"juegos\"])\n",
    "y = data_juegos[\"juegos\"]\n"
   ]
  },
  {
   "cell_type": "code",
   "execution_count": 11,
   "id": "b5843bfc-40c9-4a21-9176-4b6f253da930",
   "metadata": {},
   "outputs": [
    {
     "ename": "ImportError",
     "evalue": "cannot import name 'DecisionTreenTreeClassifier' from 'sklearn.tree' (/Users/josecampos/anaconda3/lib/python3.10/site-packages/sklearn/tree/__init__.py)",
     "output_type": "error",
     "traceback": [
      "\u001b[0;31m---------------------------------------------------------------------------\u001b[0m",
      "\u001b[0;31mImportError\u001b[0m                               Traceback (most recent call last)",
      "Cell \u001b[0;32mIn[11], line 1\u001b[0m\n\u001b[0;32m----> 1\u001b[0m \u001b[38;5;28;01mfrom\u001b[39;00m \u001b[38;5;21;01msklearn\u001b[39;00m\u001b[38;5;21;01m.\u001b[39;00m\u001b[38;5;21;01mtree\u001b[39;00m \u001b[38;5;28;01mimport\u001b[39;00m DecisionTreenTreeClassifier\n\u001b[1;32m      2\u001b[0m modelo \u001b[38;5;241m=\u001b[39m DecisionTreeClassifier()\n\u001b[1;32m      3\u001b[0m modelo\u001b[38;5;241m.\u001b[39mfit(X\u001b[38;5;241m.\u001b[39mvalues, y)\n",
      "\u001b[0;31mImportError\u001b[0m: cannot import name 'DecisionTreenTreeClassifier' from 'sklearn.tree' (/Users/josecampos/anaconda3/lib/python3.10/site-packages/sklearn/tree/__init__.py)"
     ]
    }
   ],
   "source": [
    "from sklearn.tree import DecisionTreeClassifier\n",
    "modelo = DecisionTreeClassifier()\n",
    "modelo.fit(X.values, y)\n",
    "predicciones = model.predict()"
   ]
  },
  {
   "cell_type": "code",
   "execution_count": null,
   "id": "3ef1e032-e282-401b-b9c4-2748b1fdc4c7",
   "metadata": {},
   "outputs": [],
   "source": []
  },
  {
   "cell_type": "code",
   "execution_count": null,
   "id": "6713f195-d794-470d-921b-96e9bd33c282",
   "metadata": {},
   "outputs": [],
   "source": []
  }
 ],
 "metadata": {
  "kernelspec": {
   "display_name": "Python 3 (ipykernel)",
   "language": "python",
   "name": "python3"
  },
  "language_info": {
   "codemirror_mode": {
    "name": "ipython",
    "version": 3
   },
   "file_extension": ".py",
   "mimetype": "text/x-python",
   "name": "python",
   "nbconvert_exporter": "python",
   "pygments_lexer": "ipython3",
   "version": "3.10.9"
  }
 },
 "nbformat": 4,
 "nbformat_minor": 5
}
