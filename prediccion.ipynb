{
 "cells": [
  {
   "cell_type": "code",
   "execution_count": null,
   "id": "fe853dab-0f12-4816-9fc4-f36e852bafc4",
   "metadata": {},
   "outputs": [],
   "source": [
    "import pandas as p\n",
    "from sklearn.tree import DecisionTreeClassifier\n",
    "import joblib\n",
    "\n",
    "#data_juegos = p.read_csv(\"juegos-ml.csv\")\n",
    "#X = data_juegos.drop(columns=[\"juegos\"])\n",
    "#y = data_juegos[\"juegos\"]\n",
    "\n",
    "#modelo = DecisionTreeClassifier()\n",
    "#modelo.fit(X.values, y)\n",
    "\n",
    "modelo = joblib.load(\"recomendador-juegos.joblib\")\n",
    "predicciones = modelo.predict([15, 0])"
   ]
  },
  {
   "cell_type": "code",
   "execution_count": null,
   "id": "a8bef51b-a2a4-463a-9661-49345842f5a0",
   "metadata": {},
   "outputs": [],
   "source": []
  }
 ],
 "metadata": {
  "kernelspec": {
   "display_name": "Python 3 (ipykernel)",
   "language": "python",
   "name": "python3"
  },
  "language_info": {
   "codemirror_mode": {
    "name": "ipython",
    "version": 3
   },
   "file_extension": ".py",
   "mimetype": "text/x-python",
   "name": "python",
   "nbconvert_exporter": "python",
   "pygments_lexer": "ipython3",
   "version": "3.10.9"
  }
 },
 "nbformat": 4,
 "nbformat_minor": 5
}
